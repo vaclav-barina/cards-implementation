{
 "cells": [
  {
   "cell_type": "code",
   "execution_count": null,
   "metadata": {},
   "outputs": [],
   "source": [
    "import random"
   ]
  },
  {
   "cell_type": "markdown",
   "metadata": {},
   "source": [
    "##  Implementation of the card game \"War\""
   ]
  },
  {
   "cell_type": "code",
   "execution_count": null,
   "metadata": {},
   "outputs": [],
   "source": [
    "\"\"\"\n",
    "    OVERVIEW:\n",
    "    War is a card game in which (typically) two players engage in battles to win their opponent's cards. The first player to lose all their cards loses! \n",
    "    \n",
    "    RULES:\n",
    "    - Games takes place in battles or rounds until a player loses all his/her cards.\n",
    "    - In each battle: \n",
    "      o Each player will draw a card from top of the deck\n",
    "      o Each player should place his/her card face-up\n",
    "      o Compare the cards' values. The player whose card has the highest value will take all cards in the middle\n",
    "      o In the case of a tie, players should draw 3 cards, placing each card face-down. Once three cards are drawn players should re-engage in battle\n",
    "    \n",
    "    * Ace is highest value followed by King, Queen, Jack, and numeric values in descending order (10 -> 2). \n",
    "\"\"\""
   ]
  },
  {
   "cell_type": "code",
   "execution_count": 1,
   "metadata": {},
   "outputs": [],
   "source": [
    "def play_round(player_1, player_2):\n",
    "    \"\"\"\n",
    "        INPUT: Two player objects from the Card clas\n",
    "        OUTPUT: None\n",
    "        \n",
    "        Play_round simulates a round of war where players engage in battle. Rounds are differentiated by by the resolution phase, the point at which the winner of battle picks up all cards put into play.  \n",
    "    \"\"\"\n",
    "    # Set up local variables\n",
    "    cards_played = []\n",
    "    cards_equal = True\n",
    "    \n",
    "    # Engage in battle. Function handles ties and \n",
    "    while cards_equal:\n",
    "        player_1_card = player_1.hand.pop(0)\n",
    "        player_2_card = player_2.hand.pop(0)\n",
    "        cards_equal = (player_1_card.rank == player_2_card.rank)\n",
    "        cards_played.extend((player_1_card, player_2_card))\n",
    "        # Each player draws 3 cards and places them as gamble for ties\n",
    "        if player_1_card.rank == player_2_card.rank:\n",
    "            \n",
    "        #Handle case where there is a tie and one player has less than 3 cards\n",
    "            for i in range(3):\n",
    "                if min((len(player_1.hand), len(player_2.hand))) > 1:  \n",
    "                    cards_played.extend((player_1.hand.pop(0), player_2.hand.pop(0)))\n",
    "                else:\n",
    "                    if i == 2:\n",
    "                        player_1_card = player_1.hand.pop(0)\n",
    "                        player_2_card = player_2.hand.pop(0)\n",
    "                    else:\n",
    "                        pass\n",
    "                          \n",
    "        else:\n",
    "            pass\n",
    "    \n",
    "    # RESOLVE\n",
    "    # Shuffle the cards in field of battle\n",
    "    random.shuffle(cards_played)\n",
    "    \n",
    "    \n",
    "    if player_1_card.rank > player_2_card.rank:\n",
    "        player_1.hand.extend(cards_played)\n",
    "    \n",
    "    else:\n",
    "        player_2.hand.extend(cards_played)"
   ]
  },
  {
   "cell_type": "code",
   "execution_count": 2,
   "metadata": {},
   "outputs": [],
   "source": [
    "def play_game():\n",
    "    \"\"\"\n",
    "        Simulates a game of War. Play game instatiates players, a deck, and plays roudns until one player runs out of cards.\n",
    "    \"\"\"\n",
    "    \n",
    "    # Establish players\n",
    "    player1 = Player('Sabina')\n",
    "    player2 = Player('Vaclav')\n",
    "    \n",
    "    # SET-UP\n",
    "    # Deck\n",
    "    deck = Deck()\n",
    "    deck.shuffle()\n",
    "    \n",
    "    # Dealing cards\n",
    "    while deck.cards:\n",
    "        player1.hand.append(deck.cards.pop())\n",
    "        player2.hand.append(deck.cards.pop())\n",
    "    \n",
    "    # Playing the game\n",
    "    rounds = 0\n",
    "    while player1.hand and player2.hand:\n",
    "        try:\n",
    "            play_round(player1, player2)\n",
    "            rounds += 1\n",
    "        except:\n",
    "            pass\n",
    "\n",
    "    #print('GAME OVER')\n",
    "    winner = player1 if player2.hand else player2\n",
    "    \n",
    "    #print('Player {} wins in {} rounds'.format(winner.name, rounds))\n",
    "    return rounds"
   ]
  }
 ],
 "metadata": {
  "kernelspec": {
   "display_name": "Python 3",
   "language": "python",
   "name": "python3"
  },
  "language_info": {
   "codemirror_mode": {
    "name": "ipython",
    "version": 3
   },
   "file_extension": ".py",
   "mimetype": "text/x-python",
   "name": "python",
   "nbconvert_exporter": "python",
   "pygments_lexer": "ipython3",
   "version": "3.7.1"
  }
 },
 "nbformat": 4,
 "nbformat_minor": 2
}
