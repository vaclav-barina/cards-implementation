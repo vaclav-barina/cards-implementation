{
 "cells": [
  {
   "cell_type": "code",
   "execution_count": 5,
   "metadata": {},
   "outputs": [],
   "source": [
    "import random"
   ]
  },
  {
   "cell_type": "code",
   "execution_count": 6,
   "metadata": {},
   "outputs": [],
   "source": [
    "class Card:\n",
    "    def __init__(self, suit, rank):\n",
    "        self.suit = suit\n",
    "        self.rank = rank\n",
    "  \n",
    "    def show(self):\n",
    "        print(\"{} of {}\".format(self.rank, self.suit))\n",
    "\n",
    "        \n",
    "class Deck:\n",
    "    def __init__(self):\n",
    "        self.cards = []\n",
    "        self.build()\n",
    "    \n",
    "    def __len__(self):\n",
    "        return len(self.cards)\n",
    "    \n",
    "    def build(self):\n",
    "        for s in ['Spades', 'Hearts', 'Diamonds', 'Clubs']:\n",
    "            for r in range(1,14):\n",
    "                self.cards.append(Card(s, r))\n",
    "    \n",
    "    def show(self):\n",
    "        for card in self.cards:\n",
    "            card.show()\n",
    "            \n",
    "    def shuffle(self):\n",
    "        random.shuffle(self.cards)\n",
    "\n",
    "        \n",
    "class Player:\n",
    "    def __init__(self, name):\n",
    "        self.name = name\n",
    "        self.hand = []\n",
    "    \n",
    "    def draw(self, deck):\n",
    "        self.hand.append(deck.draw_card())\n",
    "        return self\n",
    "    \n",
    "    def show_hand(self):\n",
    "        for card in self.hand:\n",
    "            card.show()\n",
    "    \n",
    "    def draw_hand(self):\n",
    "        drawn_card = self.hand.pop(0)\n",
    "        return drawn_card"
   ]
  }
 ],
 "metadata": {
  "kernelspec": {
   "display_name": "Python 3",
   "language": "python",
   "name": "python3"
  },
  "language_info": {
   "codemirror_mode": {
    "name": "ipython",
    "version": 3
   },
   "file_extension": ".py",
   "mimetype": "text/x-python",
   "name": "python",
   "nbconvert_exporter": "python",
   "pygments_lexer": "ipython3",
   "version": "3.7.1"
  }
 },
 "nbformat": 4,
 "nbformat_minor": 2
}
